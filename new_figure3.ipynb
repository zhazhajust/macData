{
 "cells": [
  {
   "cell_type": "code",
   "execution_count": 1,
   "metadata": {},
   "outputs": [
    {
     "name": "stdout",
     "output_type": "stream",
     "text": [
      "new_3d/a2_n1_T6_w8/3000\n",
      "(1908, 188)\n"
     ]
    }
   ],
   "source": [
    "n=3000\n",
    "savedir = 'new_3d/a2_n1_T6_w8/' + str(n)\n",
    "print(savedir)\n",
    "####import sdf data#####\n",
    "from mpl_toolkits.axisartist.parasite_axes import HostAxes, ParasiteAxes\n",
    "import matplotlib.pyplot as plt\n",
    "import numpy as np\n",
    "%matplotlib inline\n",
    "from matplotlib import cm\n",
    "\n",
    "import sdf\n",
    "\n",
    "\n",
    "import scipy.fftpack as fftpack\n",
    "import numpy as np\n",
    "#data=sdf.read('data/2800.sdf',dict=True)\n",
    "#bz=data['Electric Field/Ey'].data[:,:,int(188/2)]\n",
    "#ne=data['Derived/Number_Density/electron1'].data[:,:,int(188/2)]\n",
    "\n",
    "Ey=np.loadtxt(savedir+'_ey.txt')\n",
    "bz=np.loadtxt(savedir+'_bz.txt')\n",
    "ne=np.loadtxt(savedir+'_ne.txt')\n",
    "\n",
    "print(Ey.shape)\n",
    "ne_y0=ne[:,int(188/2)]\n",
    "Ey_y0=Ey[:,int(188/2)]\n",
    "hx = fftpack.hilbert(Ey_y0)\n",
    "hy = np.sqrt(Ey_y0**2+hx**2)"
   ]
  },
  {
   "cell_type": "code",
   "execution_count": 30,
   "metadata": {},
   "outputs": [
    {
     "data": {
      "text/plain": [
       "(126, 17)"
      ]
     },
     "execution_count": 30,
     "metadata": {},
     "output_type": "execute_result"
    }
   ],
   "source": [
    "    Ex=np.loadtxt(savedir+'_ex.txt')\n",
    "    Ex_y0=Ex[:,int(188/2)]\n",
    "    #Ey=data[\"Electric Field/Ey\"].data[:,:,int(188/2)]\n",
    "    Ey=np.loadtxt(savedir+'_ey.txt')\n",
    "    Ey_y0=Ey[:,int(188/2)]\n",
    "    k,x,zxx=signal.stft(Ey_y0,fs=2*pi/const.delta_x,nperseg=const.nperseg)\n",
    "    zxx=abs(zxx)\n",
    "    zxx.shape"
   ]
  },
  {
   "cell_type": "code",
   "execution_count": 2,
   "metadata": {},
   "outputs": [
    {
     "name": "stdout",
     "output_type": "stream",
     "text": [
      "[0.98910973 0.99332402 0.98336088 ... 0.9418737  0.94218115 0.96623739]\n"
     ]
    }
   ],
   "source": [
    "import numpy\n",
    "import sdf\n",
    "import constant as const\n",
    "import scipy.signal as signal\n",
    "import numpy as np\n",
    "pi=3.14\n",
    "def E_x_y_zxx(a):        \n",
    "    #sdfdir=const.sdfdir +str(a).zfill(const.filenumber)+\".sdf\"\n",
    "    #data=sdf.read(sdfdir,dict=True)\n",
    "    #Ex=data[\"Electric Field/Ex\"].data[:,:,int(188/2)]\n",
    "    Ex=np.loadtxt(savedir+'_ex.txt')\n",
    "    Ex_y0=Ex[:,int(188/2)]\n",
    "    #Ey=data[\"Electric Field/Ey\"].data[:,:,int(188/2)]\n",
    "    Ey=np.loadtxt(savedir+'_ey.txt')\n",
    "    Ey_y0=Ey[:,int(188/2)]\n",
    "    k,x,zxx=signal.stft(Ey_y0,fs=2*pi/const.delta_x,nperseg=const.nperseg)\n",
    "    zxx=abs(zxx)\n",
    "    index = np.unravel_index(zxx.argmax(),zxx.shape)\n",
    "    k_x=np.ones(const.Nx)*k[index[0]]\n",
    "    for i in range(0,const.Nx):\n",
    "        x=i\n",
    "        #print(x)\n",
    "        a=zxx[:,int(x/const.nperseg)]\n",
    "        a=a.tolist()\n",
    "        a[0]=0\n",
    "        max_index=a.index(max(a))\n",
    "        if max(a) > 0.2 * zxx[index[0]][index[1]]:\n",
    "            k_x[i]=(k[max_index])\n",
    "    #ne=data['Derived/Number_Density/electron1'].data\n",
    "    ne=np.loadtxt(savedir+'_ne.txt')\n",
    "    ne_y0=ne[:,int(const.Ny/2)]#,int(const.Ny/2)]\n",
    "\n",
    "    return [Ex_y0,Ey_y0,zxx,ne_y0,k_x]\n",
    "def k(x,zxx):\n",
    "    a=zxx[:,int(x/const.nperseg)]\n",
    "    a=a.tolist()\n",
    "    a[0]=0\n",
    "    max_index=a.index(max(a))\n",
    "    # index=(max_index*pi)/(len(a)*const.delta_x)\n",
    "    index =  (pi/const.delta_x)/len(a) * max_index\n",
    "    #print \"max(k_x),max_index,len(k_x),index\",max(a),max_index,len(a),index # ,index\n",
    "    return index\n",
    "def scalar_p(Ex_y0):\n",
    "    scalar_p=0\n",
    "    e=1.6e-19\n",
    "    c=3e8\n",
    "    m0=9.1e-31\n",
    "    import constant as const\n",
    "    a=np.zeros(const.Nx)\n",
    "    x=const.Nx - 1\n",
    "    for i in range(0,x+1):\n",
    "        scalar_p=Ex_y0[x-i]*const.delta_x+scalar_p \n",
    "    #a.append(e*scalar_p/(m0*c**2))   \n",
    "        a[x-i]=e*scalar_p/(m0*c**2)  \n",
    "    #   print  'n_scalar',a\n",
    "    return a\n",
    "def wp_2(x,ne_y0):\n",
    "    ne=ne_y0[x]\n",
    "    #ne=1e25\n",
    "    e=1.6e-19\n",
    "    m0=9.1e-31\n",
    "#print \"ne\",ne\n",
    "    w_p_2=ne*e**2/(m0*8.85e-12)\n",
    "#print \"w_p\",w_p_2\n",
    "    return w_p_2\n",
    "def ref_index(x,Ex_y0,Ey_y0,zxx,ne_y0,k_x):\n",
    "    c=3e8\n",
    "    wp_x_2=wp_2(x,ne_y0)\n",
    "#print \"wp^2\",wp_x_2\n",
    "#p_y0=scalar_p(Ex_y0)\n",
    "    p_y0_x=p_y0[x]\n",
    "#print \"scalar\",p_y0_x\n",
    "#k_x=k(x,zxx)\n",
    "    k_x=k_x[x]\n",
    "    w0=k_x*c/1\n",
    "#print \"w0\",w0\n",
    "    a=wp_x_2/(1+p_y0_x)\n",
    "    b=(k_x*c)**2\n",
    "    c=-(k_x*c)**2\n",
    "    #print(\"a,b,c\",a,b,c)\n",
    "    result=np.roots([a,b,c])\n",
    "    #print(result)\n",
    "    return np.roots([a,b,c])\n",
    "def ref_a(a):   \n",
    "    ref=[]\n",
    "    Ex_y0,Ey_y0,zxx,ne_y0,k_x=E_x_y_zxx(a)\n",
    "    x=const.Nx\n",
    "    global p_y0\n",
    "    p_y0=scalar_p(Ex_y0)\n",
    "    for i in range(0,const.Nx):\n",
    "        index=ref_index(i,Ex_y0,Ey_y0,zxx,ne_y0,k_x)\n",
    "        #print(\"c\",c)\n",
    "        s_a= type(index) == numpy.ndarray\n",
    "        #print(\"type\",a)\n",
    "        if type(index) == numpy.ndarray:\n",
    "            index=index[-1]\n",
    "        #print(\"c[-1]\",c)\n",
    "        ref.append(index)\n",
    "    #print(\"ref:\",type(ref[0]))\n",
    "    return ref\n",
    "#def help():\n",
    "#print \"func.ref_a(a)\"\n",
    "#print \"a,x=1,1\"\n",
    "#print \"Ex_y0,Ey_y0,zxx,ne_y0,k_x=func.E_x_y_zxx(a)\"\n",
    "#print \"global p_y0\"\n",
    "#print \"func.p_y0=scalar_p(Ex_y0)\"    \n",
    "#print \"func.ref_index(x,Ex_y0,Ey_y0,zxx,ne_y0)\"\n",
    "c=3e8\n",
    "'''\n",
    "x=2\n",
    "Ex_y0,Ey_y0,zxx,ne_y0,k_x=E_x_y_zxx(2800)\n",
    "print(zxx)\n",
    "wp_x_2=wp_2(x,ne_y0)\n",
    "#print(wp_x_2)\n",
    "#print \"wp^2\",wp_x_2\n",
    "#p_y0=scalar_p(Ex_y0)\n",
    "p_y0_x=p_y0[x]\n",
    "#print(p_y0_x)\n",
    "#print \"scalar\",p_y0_x\n",
    "#k_x=k(x,zxx)\n",
    "k_x=k_x[x]\n",
    "#print(k_x)\n",
    "w0=k_x*c/1\n",
    "#print \"w0\",w0\n",
    "a=wp_x_2/(1+p_y0_x)\n",
    "#print('a',a)\n",
    "'''\n",
    "x_ref=ref_a(2800)\n",
    "x_ref=np.array(x_ref)\n",
    "print(x_ref)"
   ]
  },
  {
   "cell_type": "code",
   "execution_count": null,
   "metadata": {},
   "outputs": [],
   "source": []
  },
  {
   "cell_type": "code",
   "execution_count": null,
   "metadata": {},
   "outputs": [],
   "source": []
  },
  {
   "cell_type": "code",
   "execution_count": 33,
   "metadata": {
    "scrolled": true
   },
   "outputs": [
    {
     "name": "stdout",
     "output_type": "stream",
     "text": [
      "[[ 0.          0.          0.         ...  0.          0.\n",
      "   0.        ]\n",
      " [ 0.01668416  0.01668416  0.01668416 ...  0.01668416  0.01668416\n",
      "   0.01668416]\n",
      " [ 0.03336831  0.03336831  0.03336831 ...  0.03336831  0.03336831\n",
      "   0.03336831]\n",
      " ...\n",
      " [15.86663169 15.86663169 15.86663169 ... 15.86663169 15.86663169\n",
      "  15.86663169]\n",
      " [15.88331584 15.88331584 15.88331584 ... 15.88331584 15.88331584\n",
      "  15.88331584]\n",
      " [15.9        15.9        15.9        ... 15.9        15.9\n",
      "  15.9       ]]\n"
     ]
    },
    {
     "data": {
      "text/plain": [
       "<Figure size 432x288 with 0 Axes>"
      ]
     },
     "metadata": {},
     "output_type": "display_data"
    },
    {
     "data": {
      "image/png": "[encoded data removed]",
      "text/plain": [
       "<Figure size 108x288 with 1 Axes>"
      ]
     },
     "metadata": {
      "needs_background": "light"
     },
     "output_type": "display_data"
    }
   ],
   "source": [
    "import constant as const\n",
    "iname = 'rainbow'\n",
    "def reg_cmap():\n",
    "    iname = 'rainbow'\n",
    "    oname = 'dist'    \n",
    "    low = 0.15        \n",
    "    high = 1.0\n",
    "\n",
    "    #(position, [r,g,b,a] or #rrggbb)\n",
    "    special = [(0,[1,1,1,1])]      \n",
    "    cmap = plt.get_cmap(iname)\n",
    "    N = int((high - low) * 256)\n",
    "    values = np.linspace(low,high,N)\n",
    "    colors = cmap(values)\n",
    "    colorlist = [(values[i],colors[i]) for i in range(N)]\n",
    "    colorlist = special + colorlist\n",
    "    cmap = plt.cm.colors.LinearSegmentedColormap.from_list(oname,colorlist)\n",
    "    #An other example: plt.cm.colors.LinearSegmentedColormap.from_list(‘cmap’, [‘#FFFFFF’, ‘#98F5FF’, ‘#00FF00’, ‘#FFFF00’,’#FF0000’, ‘#8B0000’], 256)\n",
    "    plt.cm.register_cmap(cmap=cmap)\n",
    "    return cmap\n",
    "\n",
    "cmap=reg_cmap()\n",
    "def reg_cmap_transparent(iname,alpha):\n",
    "    oname = iname + '_transparent'\n",
    "    cmap = plt.get_cmap(iname)\n",
    "    values = np.linspace(0,1,256)\n",
    "    colors = cmap(values)\n",
    "    for i in range(256):\n",
    "        colors[i][3] = alpha[i]\n",
    "    colorlist = [(values[i],colors[i]) for i in range(256)]\n",
    "    cmap = plt.cm.colors.LinearSegmentedColormap.from_list(oname,colorlist)\n",
    "    plt.cm.register_cmap(cmap=cmap)\n",
    "    return cmap\n",
    "\n",
    "def create_alpha(func):\n",
    "    return [ 1 if func(i)>1 else 0 if func(i)<0 else func(i) for i in range(256)]\n",
    "\n",
    "def a(x):\n",
    "    if x>10:\n",
    "        return x\n",
    "plt.set_cmap(reg_cmap_transparent(iname,create_alpha(lambda x:(np.exp(x/(256))-0.8))))\n",
    "cmap1 = plt.get_cmap()\n",
    "\n",
    "\n",
    "font = {'family' : 'Times New Roman',\n",
    "        'color'  : 'black',  \n",
    "        'weight' : 'normal',  \n",
    "        'size'   : 20,  \n",
    "        } \n",
    "k0=2*3.14/10.6e-6\n",
    "k1=2*3.14/1e-6\n",
    "fs_x=2*3.14/const.delta_x/k0\n",
    "\n",
    "fs_r=2*3.14/(40*10.6e-6/188)/k0\n",
    "\n",
    "x=np.linspace(0,fs_x/2,int(1908/2))\n",
    "r=np.linspace(0,fs_r/2,int(188/2))\n",
    "R,X=np.meshgrid(r,x)\n",
    "fig,ax=plt.subplots(figsize=(1.5,4))\n",
    "#ax.set_xlim=((0,2))\n",
    "#ax.set_ylim=((0,1))\n",
    "k_bz2d=np.fft.fft2(bz)\n",
    "#print(k_bz2d.shape)\n",
    "np.savetxt('txt/'+str(n)+'_fuliye2d.txt',k_bz2d)\n",
    "\n",
    "im4=ax.pcolormesh(R,X,abs(k_bz2d[:int(const.Nx/2),:int(const.Ny/2)]),cmap=cmap,shading='gouraud')\n",
    "#ax.set_xlim=((0,R[0,1]))\n",
    "#ax.set_ylim=((0,X[0,1]))\n",
    "\n",
    "#plt.colorbar(im4)\n",
    "\n",
    "###\n",
    "plt.yticks([0.5,1])\n",
    "\n",
    "###\n",
    "axes = plt.gca()\n",
    "axes.set_xlim([0,0.2])\n",
    "axes.set_ylim([0,1.2])\n",
    "ax.tick_params('both',labelsize=20)\n",
    "ax.set_xlabel('${k_r}/{k_0}$',fontdict=font)\n",
    "ax.set_ylabel('${k_x}/{k_0}$',fontdict=font)\n",
    "\n",
    "print(X)\n",
    "plt.show()\n",
    "fig.savefig('fig/'+str(n)+'_fig2d.png',dpi=400,bbox_inches = 'tight')"
   ]
  },
  {
   "cell_type": "code",
   "execution_count": 5,
   "metadata": {},
   "outputs": [],
   "source": [
    "I=R*1j+X"
   ]
  },
  {
   "cell_type": "code",
   "execution_count": 7,
   "metadata": {},
   "outputs": [
    {
     "ename": "TypeError",
     "evalue": "only length-1 arrays can be converted to Python scalars",
     "output_type": "error",
     "traceback": [
      "\u001b[0;31m---------------------------------------------------------------------------\u001b[0m",
      "\u001b[0;31mTypeError\u001b[0m                                 Traceback (most recent call last)",
      "\u001b[0;32m<ipython-input-7-8f57aab6e8d5>\u001b[0m in \u001b[0;36m<module>\u001b[0;34m\u001b[0m\n\u001b[1;32m      1\u001b[0m \u001b[0;32mimport\u001b[0m \u001b[0mcmath\u001b[0m\u001b[0;34m\u001b[0m\u001b[0;34m\u001b[0m\u001b[0m\n\u001b[1;32m      2\u001b[0m \u001b[0;34m\u001b[0m\u001b[0m\n\u001b[0;32m----> 3\u001b[0;31m \u001b[0ma\u001b[0m\u001b[0;34m=\u001b[0m\u001b[0mcmath\u001b[0m\u001b[0;34m.\u001b[0m\u001b[0mpolar\u001b[0m\u001b[0;34m(\u001b[0m\u001b[0mI\u001b[0m\u001b[0;34m)\u001b[0m\u001b[0;34m\u001b[0m\u001b[0;34m\u001b[0m\u001b[0m\n\u001b[0m",
      "\u001b[0;31mTypeError\u001b[0m: only length-1 arrays can be converted to Python scalars"
     ]
    }
   ],
   "source": [
    "import cmath\n",
    "\n",
    "a=cmath.polar()"
   ]
  },
  {
   "cell_type": "code",
   "execution_count": null,
   "metadata": {},
   "outputs": [],
   "source": []
  },
  {
   "cell_type": "code",
   "execution_count": 28,
   "metadata": {},
   "outputs": [
    {
     "data": {
      "image/png": "[encoded data removed]",
      "text/plain": [
       "<Figure size 432x216 with 2 Axes>"
      ]
     },
     "metadata": {
      "needs_background": "light"
     },
     "output_type": "display_data"
    }
   ],
   "source": []
  },
  {
   "cell_type": "code",
   "execution_count": null,
   "metadata": {},
   "outputs": [],
   "source": []
  },
  {
   "cell_type": "code",
   "execution_count": null,
   "metadata": {},
   "outputs": [],
   "source": []
  },
  {
   "cell_type": "code",
   "execution_count": null,
   "metadata": {
    "scrolled": false
   },
   "outputs": [],
   "source": []
  },
  {
   "cell_type": "code",
   "execution_count": null,
   "metadata": {},
   "outputs": [],
   "source": []
  },
  {
   "cell_type": "code",
   "execution_count": 62,
   "metadata": {},
   "outputs": [
    {
     "name": "stdout",
     "output_type": "stream",
     "text": [
      "max: 4040740054526.6963\n"
     ]
    },
    {
     "data": {
      "image/png": "[encoded data removed]",
      "text/plain": [
       "<Figure size 432x288 with 1 Axes>"
      ]
     },
     "metadata": {
      "needs_background": "light"
     },
     "output_type": "display_data"
    }
   ],
   "source": [
    "import numpy as np\n",
    "import matplotlib.pyplot as plt\n",
    "import sdf\n",
    "import matplotlib.pyplot as pl\n",
    "from matplotlib.ticker import MultipleLocator, FuncFormatter\n",
    "import constant as const\n",
    "%matplotlib inline\n",
    "#name=\"contrast/density_half\"\n",
    "locate=9000\n",
    "x       = int(locate/(const.delta_x*const.x_interval*1e6))\n",
    "load_dir=\"txt/a2_n1_T6_w8/xf.txt\"\n",
    "xf=np.loadtxt(load_dir)\n",
    "savedir=\"txt/a2_n1_T6_w8/\"\n",
    "N0 = const.t_size\n",
    "T=const.t_size*const.dt             #fs  #dt_snapshot*1e15  #t[x][t_size-1]-t[x][0]\n",
    "fs=N0*1e3/T\n",
    "length=xf.shape[1]\n",
    "freqs=np.linspace(0,fs/2,length)\n",
    "####transition Xf\n",
    "Xf=xf[x]\n",
    "#plot\n",
    "#np.savetxt(str(name)+str(locate)+\"_freqs.txt\",Xf)\n",
    "fig,ax=plt.subplots()\n",
    "line=ax.plot(freqs,Xf)\n",
    "#plt.xlim((0,50))\n",
    "#ax.set_xlim([0,10])\n",
    "#ax.set_ylim([0,1e11])\n",
    "ax.xaxis.set_minor_locator( MultipleLocator(1) )\n",
    "print(\"max:\",str(max(Xf)))\n",
    "ax.set_xlabel('Thz')\n",
    "ax.set_ylabel('')\n",
    "plt.grid()\n",
    "np.savetxt(savedir+\"freqs.txt\",freqs)\n",
    "np.savetxt(savedir+str(locate)+\"Xf.txt\",Xf)\n",
    "fig.savefig(savedir+str(locate)+\"freqs.png\",dpi=160)"
   ]
  },
  {
   "cell_type": "code",
   "execution_count": null,
   "metadata": {},
   "outputs": [],
   "source": []
  },
  {
   "cell_type": "code",
   "execution_count": null,
   "metadata": {},
   "outputs": [],
   "source": []
  },
  {
   "cell_type": "code",
   "execution_count": 287,
   "metadata": {},
   "outputs": [
    {
     "name": "stdout",
     "output_type": "stream",
     "text": [
      "new\n"
     ]
    }
   ],
   "source": [
    "print('new')"
   ]
  },
  {
   "cell_type": "code",
   "execution_count": 12,
   "metadata": {},
   "outputs": [
    {
     "data": {
      "image/png": "[encoded data removed]",
      "text/plain": [
       "<Figure size 288x216 with 4 Axes>"
      ]
     },
     "metadata": {
      "needs_background": "light"
     },
     "output_type": "display_data"
    }
   ],
   "source": [
    "import matplotlib\n",
    "import numpy as np\n",
    "%matplotlib inline\n",
    "from matplotlib import cm\n",
    "\n",
    "####h\n",
    "hx2 = fftpack.hilbert(x_ref)\n",
    "hy2 = np.sqrt(x_ref**2+hx2**2)\n",
    "\n",
    "####\n",
    "\n",
    "\n",
    "####\n",
    "def reg_cmap_transparent(iname,alpha):\n",
    "    oname = iname + '_transparent'\n",
    "    cmap = plt.get_cmap(iname)\n",
    "    values = np.linspace(0,1,256)\n",
    "    colors = cmap(values)\n",
    "    for i in range(256):\n",
    "        colors[i][3] = alpha[i]\n",
    "    colorlist = [(values[i],colors[i]) for i in range(256)]\n",
    "    cmap = plt.cm.colors.LinearSegmentedColormap.from_list(oname,colorlist)\n",
    "    plt.cm.register_cmap(cmap=cmap)\n",
    "    return cmap\n",
    "def reg_cmap():\n",
    "    iname = 'rainbow'\n",
    "    oname = 'dist'    \n",
    "    low = 0.05        \n",
    "    high = 1.0\n",
    "\n",
    "    #(position, [r,g,b,a] or #rrggbb)\n",
    "    special = [(0,[1,1,1,1])]      \n",
    "    cmap = plt.get_cmap(iname)\n",
    "    N = int((high - low) * 256)\n",
    "    values = np.linspace(low,high,N)\n",
    "    colors = cmap(values)\n",
    "    colorlist = [(values[i],colors[i]) for i in range(N)]\n",
    "    colorlist = special + colorlist\n",
    "    cmap = plt.cm.colors.LinearSegmentedColormap.from_list(oname,colorlist)\n",
    "    #An other example: plt.cm.colors.LinearSegmentedColormap.from_list(‘cmap’, [‘#FFFFFF’, ‘#98F5FF’, ‘#00FF00’, ‘#FFFF00’,’#FF0000’, ‘#8B0000’], 256)\n",
    "    plt.cm.register_cmap(cmap=cmap)\n",
    "    return cmap\n",
    "\n",
    "\n",
    "def create_alpha(func):\n",
    "    return [ 1 if func(i)>1 else 0 if func(i)<0 else func(i) for i in range(256)]\n",
    "font = {'family' : 'Times New Roman',\n",
    "        #'color'  : 'black',  \n",
    "        'weight' : 'normal',  \n",
    "        'size'   : 15,  \n",
    "        }  \n",
    "color='rainbow'\n",
    "index = 6\n",
    "####\n",
    "####\n",
    "matplotlib.rc('font', **font)\n",
    "\n",
    "\n",
    "fig,ax=plt.subplots(figsize=(4,3))\n",
    "ax2=ax.twinx()\n",
    "ax3=ax.twinx()\n",
    "ax.spines['right'].set_visible(False)\n",
    "ax.spines['top'].set_visible(False)\n",
    "ax2.spines['top'].set_visible(False)\n",
    "ax3.spines['top'].set_visible(False)\n",
    "ax2.spines['right'].set_visible(True)\n",
    "ax3.spines['right'].set_visible(True)\n",
    "\n",
    "###spines color\n",
    "ax3.spines['right'].set_color('green')\n",
    "ax2.spines['right'].set_color('red')\n",
    "labels=ax2.get_yticklabels()+ax3.get_yticklabels()\n",
    "for tl in ax2.get_yticklabels():\n",
    "    tl.set_color('r')\n",
    "for tic in ax3.get_yticklabels():\n",
    "    tic.set_color('g')\n",
    "###\n",
    "\n",
    "ax3.spines['right'].set_position(('axes',1.2))#'data',690))\n",
    "\n",
    "\n",
    "#ax.spines['right'].set_color('none')\n",
    "k0=2*3.14/const.lamada\n",
    "k1=2*3.14/1e-6\n",
    "fs=2*3.14/const.delta_x/k0\n",
    "f,t,zxx=signal.stft(Ey_y0,fs=2*3.14/const.delta_x,nperseg=300,noverlap=299)\n",
    "\n",
    "\n",
    "\n",
    "plt.set_cmap(reg_cmap_transparent(color,create_alpha(lambda x:(np.exp(x/(256/5))-1.1))))\n",
    "cmap = plt.get_cmap()\n",
    "\n",
    "name='${e_k}$  '\n",
    "\n",
    "d_x=n*10e-15*3e8*1e6-636\n",
    "\n",
    "#cmap=reg_cmap()\n",
    "cmap=reg_cmap()\n",
    "ZZ=np.abs(zxx)/np.abs(zxx).max()\n",
    "curve_cof= ax.pcolormesh((d_x+t*2*3.14/1e-6)*1e-3,f/k0,ZZ,cmap=cmap,shading='gouraud')\n",
    "#ax=plt.gca()\n",
    "#ax.set_xticks([200,400,600])#,fontdict=font)\n",
    "#ax.set_xticklabels(['400','500','600'],fontdict=font)\n",
    "\n",
    "d_x=n*10e-15*3e8*1e6*1e-3-636e-3\n",
    "\n",
    "line2,= ax2.plot(np.linspace(d_x,d_x+60*10.6*1e-3,1908),hy, label=\"Ey\", color='red')\n",
    "line3,= ax3.plot(np.linspace(d_x,d_x+60*10.6*1e-3,1908),x_ref, label=\"ref\", color='green')\n",
    "\n",
    "#l1 = plt.legend([line2, line3], [\"|Ey|\", \"ref\"], loc='upper left')\n",
    "\n",
    "###cbar and label\n",
    "#position=fig.add_axes([0.72, 0.22, 0.13, 0.02])#位置[左,下,右,上]\n",
    "position=fig.add_axes([0.15, 0.22, 0.13, 0.02])#位置[左,下,右,上]\n",
    "\n",
    "\n",
    "\n",
    "cb=plt.colorbar(curve_cof,cax=position,orientation='horizontal')#方向\n",
    "cb.ax.set_title('W.s(a.u)',fontdict=font,loc = 'left')#, fontdict=font)\n",
    "\n",
    "curve_cof.set_clim((0.01,1))\n",
    "###\n",
    "\n",
    "ax.set_ylim((0,2))\n",
    "\n",
    "ax2.set_ylim((-8e11,8e11))\n",
    "ax3.set_ylim((0,1.01))\n",
    "\n",
    "ax.set_xlim((d_x+200*1e-3,d_x+636*1e-3))\n",
    "\n",
    "###set_ticks\n",
    "ax.yaxis.set_ticks([0.5,1,1.5,2])\n",
    "ax2.yaxis.set_ticks((0,4e11,8e11))\n",
    "#ax2.yaxis.set_ticks([0.5,1,1.5,2])\n",
    "#ax3.yaxis.set_ticks([0.5,1,1.5,2])\n",
    "\n",
    "###\n",
    "####\n",
    "for tic in ax3.get_yticklabels():\n",
    "    tic.set_color('g')\n",
    "for tic in ax2.get_yticklabels():\n",
    "    tic.set_color('r')\n",
    "####label\n",
    "ax.set_ylabel('k/${k_0}$',fontdict=font)\n",
    "ax.set_xlabel('X'+ '[$mm$]')\n",
    "ax2.set_ylabel('Envelope of Ey[V/m]',color='r')\n",
    "ax3.set_ylabel('refrective index',color='g')\n",
    "####\n",
    "\n",
    "####no ticks####\n",
    "##ax.set_xticklabels([])\n",
    "#ax.set_yticklabels([])\n",
    "#ax2.set_yticklabels([])\n",
    "\n",
    "#ax.set_ylabel(\"\")\n",
    "#ax2.set_ylabel(\"\")\n",
    "#ax3.set_ylabel(\"\")\n",
    "#ax.yaxis.set_ticklabels([])\n",
    "#ax2.yaxis.set_ticklabels([])\n",
    "#ax3.yaxis.set_ticklabels([])\n",
    "#ax2.spines['right'].set_visible(True)\n",
    "#ax3.spines['right'].set_visible(False)\n",
    "\n",
    "################\n",
    "\n",
    "####\n",
    "plt.show()\n",
    "fig.savefig('fig/'+str(n)+'_fig3b_new.png',dpi=400,bbox_inches = 'tight')"
   ]
  },
  {
   "cell_type": "code",
   "execution_count": 19,
   "metadata": {},
   "outputs": [
    {
     "data": {
      "image/png": "[encoded data removed]",
      "text/plain": [
       "<Figure size 288x216 with 4 Axes>"
      ]
     },
     "metadata": {
      "needs_background": "light"
     },
     "output_type": "display_data"
    }
   ],
   "source": [
    "import matplotlib\n",
    "%matplotlib inline\n",
    "from matplotlib import cm\n",
    "from matplotlib.colors import LogNorm\n",
    "import numpy as np\n",
    "import matplotlib.pyplot as plt\n",
    "from matplotlib.ticker import EngFormatter\n",
    "from matplotlib.ticker import MultipleLocator, FuncFormatter\n",
    "from matplotlib import ticker, cm\n",
    "from matplotlib.colors import LogNorm\n",
    "####h\n",
    "\n",
    "\n",
    "####\n",
    "def reg_cmap_transparent(iname,alpha):\n",
    "    oname = iname + '_transparent'\n",
    "    cmap = plt.get_cmap(iname)\n",
    "    values = np.linspace(0,1,256)\n",
    "    colors = cmap(values)\n",
    "    for i in range(256):\n",
    "        colors[i][3] = alpha[i]\n",
    "    colorlist = [(values[i],colors[i]) for i in range(256)]\n",
    "    cmap = plt.cm.colors.LinearSegmentedColormap.from_list(oname,colorlist)\n",
    "    plt.cm.register_cmap(cmap=cmap)\n",
    "    return cmap\n",
    "\n",
    "def create_alpha(func):\n",
    "    return [ 1 if func(i)>1 else 0 if func(i)<0 else func(i) for i in range(256)]\n",
    "font = {'family' : 'Times New Roman',\n",
    "        #'color'  : 'black',  \n",
    "        'weight' : 'normal',  \n",
    "        'size'   : 15,  \n",
    "        }  \n",
    "color='rainbow'\n",
    "index = 6\n",
    "####\n",
    "####\n",
    "matplotlib.rc('font', **font)\n",
    "\n",
    "\n",
    "fig,ax=plt.subplots(figsize=(4,3))\n",
    "ax2=ax.twinx()\n",
    "#ax3=ax.twinx()\n",
    "ax.spines['right'].set_visible(True)\n",
    "ax.spines['top'].set_visible(True)\n",
    "ax2.spines['top'].set_visible(True)\n",
    "#ax3.spines['top'].set_visible(False)\n",
    "ax2.spines['right'].set_visible(False)\n",
    "#ax3.spines['right'].set_visible(False)\n",
    "\n",
    "#ax3.spines['right'].set_position(('data',690))\n",
    "\n",
    "####\n",
    "plt.set_cmap(reg_cmap_transparent('bwr',create_alpha(lambda x:(1-abs(x/127.5-1)))))\n",
    "cmap1 = plt.get_cmap()\n",
    "plt.set_cmap(reg_cmap_transparent('binary',create_alpha(lambda x:(np.exp(x/(256))-1))))\n",
    "cmap2 = plt.get_cmap()\n",
    "name='${e_k}$  '\n",
    "####\n",
    "\n",
    "d_x=n*10e-15*3e8*1e3-636e-3\n",
    "x=np.linspace(d_x,d_x+60*10.6*1e-3,1908)\n",
    "r=np.linspace(-10*10.6*1e-3,10*10.6*1e-3,188)\n",
    "X,R=np.meshgrid(x,r)\n",
    "\n",
    "ZZ=ne.T\n",
    "curve_cof= ax.pcolormesh(X,R,Ey.T,cmap=cm.bwr,shading='gouraud')\n",
    "curve_temp= ax2.pcolormesh(X,R,ne.T,norm=LogNorm(vmin=ZZ.min()+0.01, vmax=ZZ.max()),cmap=cmap2,shading='gouraud')\n",
    "curve_cof.set_clim((-Ey.max()*0.8,Ey.max()*0.8))\n",
    "\n",
    "#curve_temp.set_clim((0,ne.max()*0.2))\n",
    "\n",
    "\n",
    "\n",
    "position=fig.add_axes([0.25, 0.78, 0.15, 0.02])#位置[左,下,右,上]\n",
    "\n",
    "cb=plt.colorbar(curve_cof,ticks=[-8e11,-4e11,0,4e11,8e11],cax=position,orientation='horizontal')#方向\n",
    "#cb=plt.colorbar(curve_cof,ticks=[-8e11,-4e11,-2e11,0,2e11,4e11,8e11],cax=position,orientation='horizontal')#方向\n",
    "\n",
    "\n",
    "#cb.set_label('Ey(V/m)',fontdict=font)\n",
    "position2=fig.add_axes([0.45, 0.78, 0.15, 0.02])#位置[左,下,右,上]\n",
    "cb2=plt.colorbar(curve_temp,cax=position2,orientation='horizontal')#方向\n",
    "\n",
    "\n",
    "curve_temp.set_clim((1e20,1e26))\n",
    "\n",
    "#cb2=plt.colorbar(curve_temp,cmap=plt.get_cmap('rainbow'),cax=position2,orientation='horizontal')#方向\n",
    "\n",
    "#ticks=[0,1e24,2e24],\n",
    "\n",
    "#curve_temp.set_clim((0,2e24))\n",
    "\n",
    "cb2.set_label('n_e(/m^3)',fontdict=font)\n",
    "cb.ax.set_title('Ey(V/m)',fontdict=font ,loc = 'left')\n",
    "\n",
    "#cb2.ax.set_title('${n_e}$(/m^3)',fontdict=font,loc = 'left')\n",
    "\n",
    "###\n",
    "ax.set_xlabel('X'+ '[$mm$]',fontdict=font)\n",
    "ax.set_ylabel('R'+ '[$mm$]',fontdict=font)\n",
    "\n",
    "\n",
    "#####no ticks####\n",
    "#ax.set_xticklabels([])\n",
    "#ax.set_yticklabels([])\n",
    "#ax2.set_yticklabels([])\n",
    "##ax.set_xlabel(\"\")\n",
    "#ax.set_ylabel(\"\")\n",
    "\n",
    "\n",
    "\n",
    "######\n",
    "#ax2.set_ylabel('Intensity'+'W/${m^2}$',fontdict=font)\n",
    "\n",
    "ax.set_xlim((d_x+200e-3,d_x+636e-3))\n",
    "####\n",
    "plt.show()\n",
    "fig.savefig('fig/'+str(n)+'_fig3a_new.png',dpi=400,bbox_inches = 'tight')"
   ]
  },
  {
   "cell_type": "code",
   "execution_count": 13,
   "metadata": {},
   "outputs": [
    {
     "data": {
      "text/plain": [
       "0.009"
      ]
     },
     "execution_count": 13,
     "metadata": {},
     "output_type": "execute_result"
    }
   ],
   "source": [
    "d_x=n*10e-15*3e8\n",
    "d_x"
   ]
  },
  {
   "cell_type": "code",
   "execution_count": 160,
   "metadata": {},
   "outputs": [
    {
     "data": {
      "text/plain": [
       "(1000, 188)"
      ]
     },
     "execution_count": 160,
     "metadata": {},
     "output_type": "execute_result"
    }
   ],
   "source": [
    "ne.shape"
   ]
  },
  {
   "cell_type": "code",
   "execution_count": 161,
   "metadata": {},
   "outputs": [
    {
     "data": {
      "text/plain": [
       "(188, 1000)"
      ]
     },
     "execution_count": 161,
     "metadata": {},
     "output_type": "execute_result"
    }
   ],
   "source": [
    "X.shape"
   ]
  },
  {
   "cell_type": "code",
   "execution_count": 162,
   "metadata": {},
   "outputs": [
    {
     "data": {
      "text/plain": [
       "(188, 1000)"
      ]
     },
     "execution_count": 162,
     "metadata": {},
     "output_type": "execute_result"
    }
   ],
   "source": [
    "R.shape"
   ]
  },
  {
   "cell_type": "code",
   "execution_count": 194,
   "metadata": {},
   "outputs": [
    {
     "ename": "AttributeError",
     "evalue": "'list' object has no attribute 'get_label'",
     "output_type": "error",
     "traceback": [
      "\u001b[0;31m---------------------------------------------------------------------------\u001b[0m",
      "\u001b[0;31mAttributeError\u001b[0m                            Traceback (most recent call last)",
      "\u001b[0;32m<ipython-input-194-b049813e7d38>\u001b[0m in \u001b[0;36m<module>\u001b[0;34m\u001b[0m\n\u001b[0;32m----> 1\u001b[0;31m \u001b[0mcurve_load\u001b[0m\u001b[0;34m.\u001b[0m\u001b[0mget_label\u001b[0m\u001b[0;34m(\u001b[0m\u001b[0;34m)\u001b[0m\u001b[0;34m\u001b[0m\u001b[0;34m\u001b[0m\u001b[0m\n\u001b[0m",
      "\u001b[0;31mAttributeError\u001b[0m: 'list' object has no attribute 'get_label'"
     ]
    }
   ],
   "source": [
    "curve_load.get_label()"
   ]
  },
  {
   "cell_type": "code",
   "execution_count": 215,
   "metadata": {},
   "outputs": [
    {
     "data": {
      "text/plain": [
       "<matplotlib.lines.Line2D at 0x125f6bcd0>"
      ]
     },
     "execution_count": 215,
     "metadata": {},
     "output_type": "execute_result"
    }
   ],
   "source": [
    "line2"
   ]
  },
  {
   "cell_type": "code",
   "execution_count": 216,
   "metadata": {},
   "outputs": [
    {
     "data": {
      "text/plain": [
       "[<matplotlib.lines.Line2D at 0x125f6bb90>]"
      ]
     },
     "execution_count": 216,
     "metadata": {},
     "output_type": "execute_result"
    }
   ],
   "source": [
    "line3"
   ]
  },
  {
   "cell_type": "code",
   "execution_count": null,
   "metadata": {},
   "outputs": [],
   "source": []
  }
 ],
 "metadata": {
  "kernelspec": {
   "display_name": "Python 3",
   "language": "python",
   "name": "python3"
  },
  "language_info": {
   "codemirror_mode": {
    "name": "ipython",
    "version": 3
   },
   "file_extension": ".py",
   "mimetype": "text/x-python",
   "name": "python",
   "nbconvert_exporter": "python",
   "pygments_lexer": "ipython3",
   "version": "3.7.4"
  }
 },
 "nbformat": 4,
 "nbformat_minor": 2
}
